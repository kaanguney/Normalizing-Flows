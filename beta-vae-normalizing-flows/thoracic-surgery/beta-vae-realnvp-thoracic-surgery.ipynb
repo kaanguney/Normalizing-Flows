{
 "cells": [
  {
   "cell_type": "code",
   "execution_count": 1,
   "id": "fac0167e",
   "metadata": {
    "scrolled": false
   },
   "outputs": [
    {
     "data": {
      "image/png": "[encoded data removed]",
      "text/plain": [
       "<Figure size 432x288 with 1 Axes>"
      ]
     },
     "metadata": {
      "needs_background": "light"
     },
     "output_type": "display_data"
    },
    {
     "data": {
      "image/png": "[encoded data removed]",
      "text/plain": [
       "<Figure size 432x288 with 1 Axes>"
      ]
     },
     "metadata": {
      "needs_background": "light"
     },
     "output_type": "display_data"
    }
   ],
   "source": [
    "%run 'preprocessing/preprocessing_v1.1.ipynb'"
   ]
  },
  {
   "cell_type": "code",
   "execution_count": 5,
   "id": "9f0b013a",
   "metadata": {
    "scrolled": true
   },
   "outputs": [],
   "source": [
    "import os \n",
    "import time \n",
    "os.environ['TF_CPP_MIN_LOG_LEVEL'] = '3'\n",
    "import numpy as np \n",
    "import pandas as pd\n",
    "import seaborn as sns \n",
    "sns.set_style('white')\n",
    "import matplotlib.pyplot as plt\n",
    "%matplotlib inline \n",
    "from sklearn.datasets import make_moons\n",
    "from sklearn.preprocessing import StandardScaler\n",
    "from sklearn.linear_model import LinearRegression\n",
    "from tensorflow.keras.optimizers import Adam\n",
    "from tensorflow.keras.callbacks import LambdaCallback\n",
    "import tensorflow as tf \n",
    "tf.compat.v1.logging.set_verbosity(tf.compat.v1.logging.ERROR) # for gradient warning (variables are still updated, therefore supressing is fine)\n",
    "import tensorflow_probability as tfp \n",
    "from tensorflow.keras import Model, Sequential\n",
    "from tensorflow.keras.layers import Dense, Flatten, Reshape, Input, Layer\n",
    "from tensorflow.keras.losses import Loss\n",
    "import scipy\n",
    "from ks2d2s import ks2d2s\n",
    "\n",
    "tfd = tfp.distributions\n",
    "tfb = tfp.bijectors\n",
    "tfpl = tfp.layers\n",
    "\n",
    "color_list = ['#bcad', '#dacb']"
   ]
  },
  {
   "cell_type": "markdown",
   "id": "17da99b5",
   "metadata": {},
   "source": [
    "### Define prior distribution"
   ]
  },
  {
   "cell_type": "code",
   "execution_count": 6,
   "id": "9ed6efd6",
   "metadata": {
    "scrolled": true
   },
   "outputs": [],
   "source": [
    "def get_prior(num_modes, latent_dim):\n",
    "    \n",
    "    mixture_distribution = tfd.Categorical(probs=[1./num_modes] * num_modes)\n",
    "    components_distribution = tfd.MultivariateNormalDiag(loc=tf.Variable(tf.random.normal((num_modes, latent_dim))),\n",
    "                                                        scale_diag=tfp.util.TransformedVariable(tf.ones((num_modes,latent_dim)),\n",
    "                                                                                               bijector=tfb.Softplus())\n",
    "                                                        )\n",
    "    prior = tfd.MixtureSameFamily(mixture_distribution,\n",
    "                                  components_distribution\n",
    "                                 )\n",
    "    return prior"
   ]
  },
  {
   "cell_type": "code",
   "execution_count": 7,
   "id": "956433fd",
   "metadata": {
    "scrolled": true
   },
   "outputs": [
    {
     "name": "stdout",
     "output_type": "stream",
     "text": [
      "Prior event shape: 2\n",
      "# of Gaussions: 2\n",
      "Covariance matrix: MultivariateNormalDiag\n"
     ]
    }
   ],
   "source": [
    "latent_dim = 2\n",
    "input_shape = 2\n",
    "\n",
    "prior = get_prior(num_modes=latent_dim, latent_dim=input_shape) \n",
    "print(f'Prior event shape: {prior.event_shape[0]}')\n",
    "print(f'# of Gaussions: {prior.components_distribution.batch_shape[0]}') \n",
    "print(f'Covariance matrix: {prior.components_distribution.name}')"
   ]
  },
  {
   "cell_type": "markdown",
   "id": "bf7ab036",
   "metadata": {},
   "source": [
    "### Define KL divergence"
   ]
  },
  {
   "cell_type": "code",
   "execution_count": 8,
   "id": "d33eb9a1",
   "metadata": {
    "scrolled": true
   },
   "outputs": [],
   "source": [
    "# set weight for more emphasis on KLDivergence term rather than reconstruction loss\n",
    "# average over both samples and batches\n",
    "\n",
    "def get_KL_regularizer(prior, weight=4.):\n",
    "    \n",
    "    regularizer = tfpl.KLDivergenceRegularizer(prior, \n",
    "                                        use_exact_kl=False,\n",
    "                                        test_points_reduce_axis=(),\n",
    "                                        test_points_fn=lambda q: q.sample(10),\n",
    "                                        weight=weight\n",
    "                                        )\n",
    "    return regularizer"
   ]
  },
  {
   "cell_type": "code",
   "execution_count": 9,
   "id": "859c9d44",
   "metadata": {
    "scrolled": true
   },
   "outputs": [],
   "source": [
    "KLDivergence_regularizer = get_KL_regularizer(prior)"
   ]
  },
  {
   "cell_type": "markdown",
   "id": "57682c39",
   "metadata": {},
   "source": [
    "### Define the encoder"
   ]
  },
  {
   "cell_type": "code",
   "execution_count": 10,
   "id": "c011c224",
   "metadata": {
    "scrolled": true
   },
   "outputs": [],
   "source": [
    "def get_encoder(input_shape, latent_dim, KL_regularizer):\n",
    "    \n",
    "    encoder = Sequential([\n",
    "        Dense(input_shape=input_shape, units=256, activation='relu'),\n",
    "        Dense(units=128, activation='relu'),\n",
    "        Dense(units=64, activation='relu'),\n",
    "        Dense(units=32, activation='relu'),\n",
    "        Dense(tfpl.MultivariateNormalTriL.params_size(latent_dim)),\n",
    "        tfpl.MultivariateNormalTriL(latent_dim, \n",
    "                                   activity_regularizer=KL_regularizer),\n",
    "    ])\n",
    "    \n",
    "    return encoder"
   ]
  },
  {
   "cell_type": "code",
   "execution_count": 11,
   "id": "ffea5058",
   "metadata": {
    "scrolled": false
   },
   "outputs": [
    {
     "name": "stdout",
     "output_type": "stream",
     "text": [
      "Model: \"sequential\"\n",
      "_________________________________________________________________\n",
      "Layer (type)                 Output Shape              Param #   \n",
      "=================================================================\n",
      "dense (Dense)                (None, 256)               768       \n",
      "_________________________________________________________________\n",
      "dense_1 (Dense)              (None, 128)               32896     \n",
      "_________________________________________________________________\n",
      "dense_2 (Dense)              (None, 64)                8256      \n",
      "_________________________________________________________________\n",
      "dense_3 (Dense)              (None, 32)                2080      \n",
      "_________________________________________________________________\n",
      "dense_4 (Dense)              (None, 5)                 165       \n",
      "_________________________________________________________________\n",
      "multivariate_normal_tri_l (M multiple                  8         \n",
      "=================================================================\n",
      "Total params: 44,173\n",
      "Trainable params: 44,173\n",
      "Non-trainable params: 0\n",
      "_________________________________________________________________\n"
     ]
    }
   ],
   "source": [
    "encoder = get_encoder(input_shape=(input_shape,), latent_dim=latent_dim, KL_regularizer=KLDivergence_regularizer)\n",
    "encoder.summary()"
   ]
  },
  {
   "cell_type": "markdown",
   "id": "ad3eb53a",
   "metadata": {},
   "source": [
    "### Define the decoder "
   ]
  },
  {
   "cell_type": "code",
   "execution_count": 12,
   "id": "2fcb68ca",
   "metadata": {
    "scrolled": true
   },
   "outputs": [],
   "source": [
    "def get_decoder(latent_dim):\n",
    "    \n",
    "    decoder = Sequential([\n",
    "        Dense(input_shape=(latent_dim,), units=5, activation='relu'),\n",
    "        Dense(units=64, activation='relu'),\n",
    "        Dense(units=128, activation='relu'),\n",
    "        Dense(units=256, activation='relu'),\n",
    "        Dense(tfpl.MultivariateNormalTriL.params_size(latent_dim)),\n",
    "        tfpl.MultivariateNormalTriL(latent_dim)\n",
    "    ])\n",
    "    \n",
    "    return decoder"
   ]
  },
  {
   "cell_type": "code",
   "execution_count": 13,
   "id": "f7abd481",
   "metadata": {
    "scrolled": true
   },
   "outputs": [
    {
     "name": "stdout",
     "output_type": "stream",
     "text": [
      "Model: \"sequential_1\"\n",
      "_________________________________________________________________\n",
      "Layer (type)                 Output Shape              Param #   \n",
      "=================================================================\n",
      "dense_5 (Dense)              (None, 5)                 15        \n",
      "_________________________________________________________________\n",
      "dense_6 (Dense)              (None, 64)                384       \n",
      "_________________________________________________________________\n",
      "dense_7 (Dense)              (None, 128)               8320      \n",
      "_________________________________________________________________\n",
      "dense_8 (Dense)              (None, 256)               33024     \n",
      "_________________________________________________________________\n",
      "dense_9 (Dense)              (None, 5)                 1285      \n",
      "_________________________________________________________________\n",
      "multivariate_normal_tri_l_1  multiple                  0         \n",
      "=================================================================\n",
      "Total params: 43,028\n",
      "Trainable params: 43,028\n",
      "Non-trainable params: 0\n",
      "_________________________________________________________________\n"
     ]
    }
   ],
   "source": [
    "decoder = get_decoder(latent_dim)\n",
    "decoder.summary()"
   ]
  },
  {
   "cell_type": "markdown",
   "id": "b8998844",
   "metadata": {},
   "source": [
    "### Connect encoder to decoder "
   ]
  },
  {
   "cell_type": "code",
   "execution_count": 14,
   "id": "44663b3d",
   "metadata": {
    "scrolled": true
   },
   "outputs": [
    {
     "name": "stdout",
     "output_type": "stream",
     "text": [
      "Model: \"model\"\n",
      "_________________________________________________________________\n",
      "Layer (type)                 Output Shape              Param #   \n",
      "=================================================================\n",
      "dense_input (InputLayer)     [(None, 2)]               0         \n",
      "_________________________________________________________________\n",
      "dense (Dense)                (None, 256)               768       \n",
      "_________________________________________________________________\n",
      "dense_1 (Dense)              (None, 128)               32896     \n",
      "_________________________________________________________________\n",
      "dense_2 (Dense)              (None, 64)                8256      \n",
      "_________________________________________________________________\n",
      "dense_3 (Dense)              (None, 32)                2080      \n",
      "_________________________________________________________________\n",
      "dense_4 (Dense)              (None, 5)                 165       \n",
      "_________________________________________________________________\n",
      "multivariate_normal_tri_l (M multiple                  8         \n",
      "_________________________________________________________________\n",
      "sequential_1 (Sequential)    multiple                  43028     \n",
      "=================================================================\n",
      "Total params: 87,201\n",
      "Trainable params: 87,201\n",
      "Non-trainable params: 0\n",
      "_________________________________________________________________\n"
     ]
    }
   ],
   "source": [
    "vae = Model(inputs=encoder.inputs, outputs=decoder(encoder.outputs))\n",
    "vae.summary()"
   ]
  },
  {
   "cell_type": "markdown",
   "id": "193def59",
   "metadata": {},
   "source": [
    "### Specify the loss function "
   ]
  },
  {
   "cell_type": "code",
   "execution_count": 15,
   "id": "f572dddd",
   "metadata": {
    "scrolled": true
   },
   "outputs": [],
   "source": [
    "# KL divergence is implicity incorporated to the loss function before\n",
    "# add reconstruction error to loss function \n",
    "def reconstruction_error(decoding_dist, x_true):\n",
    "    return -tf.reduce_mean(decoding_dist.log_prob(x_true))\n",
    "\n",
    "class custom_reconstruction_error(Loss):\n",
    "    def call(self, decoding_dist, x_true):\n",
    "        return -tf.reduce_mean(decoding_dist.log_prob(x_true))"
   ]
  },
  {
   "cell_type": "markdown",
   "id": "b30984a3",
   "metadata": {},
   "source": [
    "### Selection process"
   ]
  },
  {
   "cell_type": "code",
   "execution_count": 16,
   "id": "dfee364c",
   "metadata": {
    "scrolled": true
   },
   "outputs": [
    {
     "name": "stdout",
     "output_type": "stream",
     "text": [
      "# of training samples: 224\n",
      "# of test samples: 224\n"
     ]
    }
   ],
   "source": [
    "print(f'# of training samples: {X_train.shape[0]}')\n",
    "print(f'# of test samples: {X_test.shape[0]}')"
   ]
  },
  {
   "cell_type": "code",
   "execution_count": 17,
   "id": "e176949b",
   "metadata": {
    "scrolled": true
   },
   "outputs": [],
   "source": [
    "y_train.reset_index(drop=True, inplace=True)\n",
    "X_train['Risk1Yr'] = y_train"
   ]
  },
  {
   "cell_type": "code",
   "execution_count": 18,
   "id": "1c742030",
   "metadata": {
    "scrolled": false
   },
   "outputs": [],
   "source": [
    "X_train[keepdims[1:]] = X_train[keepdims[1:]].astype(np.float32)"
   ]
  },
  {
   "cell_type": "code",
   "execution_count": 19,
   "id": "b996f2ae",
   "metadata": {
    "scrolled": false
   },
   "outputs": [],
   "source": [
    "X_train_copy = X_train.copy()\n",
    "X_test_copy = X_test.copy()"
   ]
  },
  {
   "cell_type": "markdown",
   "id": "ce39bd4b",
   "metadata": {},
   "source": [
    "### Compile and fit the model "
   ]
  },
  {
   "cell_type": "code",
   "execution_count": 20,
   "id": "5aa3970d",
   "metadata": {
    "scrolled": true
   },
   "outputs": [],
   "source": [
    "X_test.drop(['DGN'], axis=1, inplace=True)"
   ]
  },
  {
   "cell_type": "code",
   "execution_count": 21,
   "id": "ab6e83bc",
   "metadata": {
    "scrolled": true
   },
   "outputs": [],
   "source": [
    "X_train[keepdims[1:]] = X_train[keepdims[1:]].astype(np.float32)\n",
    "X_test[keepdims[1:]] = X_test[keepdims[1:]].astype(np.float32)"
   ]
  },
  {
   "cell_type": "code",
   "execution_count": 22,
   "id": "09e2a7d6",
   "metadata": {},
   "outputs": [],
   "source": [
    "X_train.drop(['DGN', 'Risk1Yr'],axis=1,inplace=True)"
   ]
  },
  {
   "cell_type": "code",
   "execution_count": 25,
   "id": "3a456bd9",
   "metadata": {},
   "outputs": [
    {
     "data": {
      "image/png": "[encoded data removed]",
      "text/plain": [
       "<Figure size 864x360 with 3 Axes>"
      ]
     },
     "metadata": {
      "needs_background": "light"
     },
     "output_type": "display_data"
    }
   ],
   "source": [
    "samples = pd.DataFrame(prior.sample(X_train_copy.shape[0]).numpy(), columns=keepdims[1:])\n",
    "f, axs = plt.subplots(1, 3, figsize=(12,5))\n",
    "sns.kdeplot(data=pd.DataFrame(X_train_copy.drop(['DGN', 'Risk1Yr'], axis=1), columns=['PRE4','PRE5']), ax=axs[0], multiple=\"stack\", palette='Set1').set_title('train')\n",
    "sns.kdeplot(data=samples, ax=axs[1], multiple=\"stack\", palette='Set2').set_title('qtrainable')\n",
    "sns.kdeplot(data=pd.DataFrame(X_test_copy.drop('DGN', axis=1), columns=['PRE4','PRE5']), ax=axs[2], multiple=\"stack\", palette='Set3').set_title('test')\n",
    "f = f.get_figure()\n",
    "sns.despine()\n",
    "f.savefig(os.getcwd() + '/realnvp-results/p.jpeg')"
   ]
  },
  {
   "cell_type": "code",
   "execution_count": 23,
   "id": "3215530a",
   "metadata": {
    "scrolled": true
   },
   "outputs": [
    {
     "name": "stdout",
     "output_type": "stream",
     "text": [
      "\n",
      " Epoch 1/300 \n",
      "\t loss: 29.9215, val_loss: 24.8619\n",
      "\n",
      " Epoch 101/300 \n",
      "\t loss: 0.0731, val_loss: 0.2223\n",
      "\n",
      " Epoch 201/300 \n",
      "\t loss: 0.0624, val_loss: 0.1429\n"
     ]
    }
   ],
   "source": [
    "optimizer = Adam(learning_rate=3e-4)\n",
    "epochs = 300 \n",
    "epoch_callback = LambdaCallback(on_epoch_end=lambda epoch, logs: print('\\n Epoch {}/{}'.format(epoch+1, epochs, logs),\n",
    "                                                                       '\\n\\t ' + (': {:.4f}, '.join(logs.keys()) + ': {:.4f}').format(*logs.values()))\n",
    "                                if epoch % 100 == 0 else False\n",
    "                               )\n",
    "\n",
    "\n",
    "vae.compile(optimizer=optimizer, loss=reconstruction_error)\n",
    "history = vae.fit(X_train, \n",
    "                  validation_data=(X_test,),\n",
    "                  epochs=epochs, \n",
    "                  batch_size=32,\n",
    "                  verbose=0,\n",
    "                  shuffle=True,\n",
    "                  callbacks=[epoch_callback]\n",
    "                 )"
   ]
  },
  {
   "cell_type": "markdown",
   "id": "77a16a56",
   "metadata": {},
   "source": [
    "### Plot training and validation losses "
   ]
  },
  {
   "cell_type": "code",
   "execution_count": 26,
   "id": "116abbd8",
   "metadata": {
    "scrolled": true
   },
   "outputs": [
    {
     "data": {
      "image/png": "[encoded data removed]",
      "text/plain": [
       "<Figure size 432x288 with 1 Axes>"
      ]
     },
     "metadata": {
      "needs_background": "light"
     },
     "output_type": "display_data"
    }
   ],
   "source": [
    "cutoff=10\n",
    "train_losses = history.history['loss'][cutoff:]\n",
    "valid_losses = history.history['val_loss'][cutoff:]\n",
    "\n",
    "plt.plot(train_losses, label='train')\n",
    "plt.plot(valid_losses, label='valid')\n",
    "plt.legend()\n",
    "plt.xlabel('Epochs')\n",
    "plt.ylabel('KL Divergence')\n",
    "plt.tight_layout()\n",
    "plt.show()\n",
    "\n",
    "# Loss function is ELBO maximization\n",
    "# ELBO maximization is equivalent to KL divergence minimization "
   ]
  },
  {
   "cell_type": "markdown",
   "id": "fadadad2",
   "metadata": {},
   "source": [
    "### Sample from the generative model"
   ]
  },
  {
   "cell_type": "code",
   "execution_count": 27,
   "id": "e65f7315",
   "metadata": {
    "scrolled": false
   },
   "outputs": [],
   "source": [
    "X_train_sample = decoder(X_train.to_numpy()).sample()\n",
    "X_train_sample = pd.DataFrame(X_train_sample.numpy(), columns=X_test.columns)"
   ]
  },
  {
   "cell_type": "code",
   "execution_count": 28,
   "id": "c5ebde09",
   "metadata": {
    "scrolled": false
   },
   "outputs": [
    {
     "data": {
      "text/html": [
       "<div>\n",
       "<style scoped>\n",
       "    .dataframe tbody tr th:only-of-type {\n",
       "        vertical-align: middle;\n",
       "    }\n",
       "\n",
       "    .dataframe tbody tr th {\n",
       "        vertical-align: top;\n",
       "    }\n",
       "\n",
       "    .dataframe thead th {\n",
       "        text-align: right;\n",
       "    }\n",
       "</style>\n",
       "<table border=\"1\" class=\"dataframe\">\n",
       "  <thead>\n",
       "    <tr style=\"text-align: right;\">\n",
       "      <th></th>\n",
       "      <th>PRE4</th>\n",
       "      <th>PRE5</th>\n",
       "    </tr>\n",
       "  </thead>\n",
       "  <tbody>\n",
       "    <tr>\n",
       "      <th>0</th>\n",
       "      <td>1.276221</td>\n",
       "      <td>-1.066015</td>\n",
       "    </tr>\n",
       "    <tr>\n",
       "      <th>1</th>\n",
       "      <td>1.272717</td>\n",
       "      <td>-0.646317</td>\n",
       "    </tr>\n",
       "    <tr>\n",
       "      <th>2</th>\n",
       "      <td>-0.215517</td>\n",
       "      <td>-0.014972</td>\n",
       "    </tr>\n",
       "    <tr>\n",
       "      <th>3</th>\n",
       "      <td>-0.934542</td>\n",
       "      <td>-0.473904</td>\n",
       "    </tr>\n",
       "    <tr>\n",
       "      <th>4</th>\n",
       "      <td>-0.264753</td>\n",
       "      <td>-0.827687</td>\n",
       "    </tr>\n",
       "  </tbody>\n",
       "</table>\n",
       "</div>"
      ],
      "text/plain": [
       "       PRE4      PRE5\n",
       "0  1.276221 -1.066015\n",
       "1  1.272717 -0.646317\n",
       "2 -0.215517 -0.014972\n",
       "3 -0.934542 -0.473904\n",
       "4 -0.264753 -0.827687"
      ]
     },
     "execution_count": 28,
     "metadata": {},
     "output_type": "execute_result"
    }
   ],
   "source": [
    "X_train_sample.head()"
   ]
  },
  {
   "cell_type": "code",
   "execution_count": 29,
   "id": "e7bd3f85",
   "metadata": {
    "scrolled": false
   },
   "outputs": [
    {
     "data": {
      "text/html": [
       "<div>\n",
       "<style scoped>\n",
       "    .dataframe tbody tr th:only-of-type {\n",
       "        vertical-align: middle;\n",
       "    }\n",
       "\n",
       "    .dataframe tbody tr th {\n",
       "        vertical-align: top;\n",
       "    }\n",
       "\n",
       "    .dataframe thead th {\n",
       "        text-align: right;\n",
       "    }\n",
       "</style>\n",
       "<table border=\"1\" class=\"dataframe\">\n",
       "  <thead>\n",
       "    <tr style=\"text-align: right;\">\n",
       "      <th></th>\n",
       "      <th>PRE4</th>\n",
       "      <th>PRE5</th>\n",
       "    </tr>\n",
       "  </thead>\n",
       "  <tbody>\n",
       "    <tr>\n",
       "      <th>0</th>\n",
       "      <td>0.660182</td>\n",
       "      <td>-0.925203</td>\n",
       "    </tr>\n",
       "    <tr>\n",
       "      <th>1</th>\n",
       "      <td>-0.593707</td>\n",
       "      <td>0.379392</td>\n",
       "    </tr>\n",
       "    <tr>\n",
       "      <th>2</th>\n",
       "      <td>-0.821744</td>\n",
       "      <td>0.854008</td>\n",
       "    </tr>\n",
       "    <tr>\n",
       "      <th>3</th>\n",
       "      <td>0.345740</td>\n",
       "      <td>-1.073167</td>\n",
       "    </tr>\n",
       "    <tr>\n",
       "      <th>4</th>\n",
       "      <td>0.328189</td>\n",
       "      <td>0.257521</td>\n",
       "    </tr>\n",
       "  </tbody>\n",
       "</table>\n",
       "</div>"
      ],
      "text/plain": [
       "       PRE4      PRE5\n",
       "0  0.660182 -0.925203\n",
       "1 -0.593707  0.379392\n",
       "2 -0.821744  0.854008\n",
       "3  0.345740 -1.073167\n",
       "4  0.328189  0.257521"
      ]
     },
     "execution_count": 29,
     "metadata": {},
     "output_type": "execute_result"
    }
   ],
   "source": [
    "X_test_sample = decoder(X_test.to_numpy()).sample()\n",
    "X_test_sample = pd.DataFrame(X_test_sample.numpy(), columns=X_test.columns)\n",
    "X_test_sample.head()"
   ]
  },
  {
   "cell_type": "code",
   "execution_count": 30,
   "id": "39439ca5",
   "metadata": {
    "scrolled": true
   },
   "outputs": [],
   "source": [
    "y_train.reset_index(drop=True,inplace=True)\n",
    "y_test.reset_index(drop=True,inplace=True) # for concatenation\n",
    "\n",
    "X_train_sample['Risk1Yr'] = y_train\n",
    "X_train_sample['DGN'] = X_train_copy['DGN']"
   ]
  },
  {
   "cell_type": "markdown",
   "id": "71993523",
   "metadata": {},
   "source": [
    "### RealNVP Flow"
   ]
  },
  {
   "cell_type": "code",
   "execution_count": 31,
   "id": "ce7944ce",
   "metadata": {
    "scrolled": true
   },
   "outputs": [],
   "source": [
    "loc = [X_train_sample[i].mean().astype('float32') for i in list(X_train.columns)]\n",
    "scale_diag = [X_train_sample[i].std().astype('float32') for i in list(X_train.columns)]"
   ]
  },
  {
   "cell_type": "code",
   "execution_count": 32,
   "id": "54436897",
   "metadata": {
    "scrolled": true
   },
   "outputs": [
    {
     "data": {
      "text/plain": [
       "<tfp.distributions.MultivariateNormalDiag 'MultivariateNormalDiag' batch_shape=[] event_shape=[2] dtype=float32>"
      ]
     },
     "execution_count": 32,
     "metadata": {},
     "output_type": "execute_result"
    }
   ],
   "source": [
    "mvn = tfd.MultivariateNormalDiag(loc=loc, scale_diag=scale_diag)\n",
    "mvn"
   ]
  },
  {
   "cell_type": "code",
   "execution_count": 33,
   "id": "243e4115",
   "metadata": {
    "scrolled": true
   },
   "outputs": [],
   "source": [
    "class NN(Layer):\n",
    "    def __init__(self, input_shape, n_hidden=[512, 512], activation=\"relu\", name=\"nn\"):\n",
    "        super(NN, self).__init__(name=\"nn\")\n",
    "        layer_list = []\n",
    "        for i, hidden in enumerate(n_hidden):\n",
    "            layer_list.append(Dense(hidden, activation=activation, name='dense_{}_1'.format(i)))\n",
    "            layer_list.append(Dense(hidden, activation=activation, name='dense_{}_2'.format(i)))\n",
    "        self.layer_list = layer_list\n",
    "        self.log_s_layer = Dense(input_shape, activation=\"tanh\", name='log_s')\n",
    "        self.t_layer = Dense(input_shape, name='t')\n",
    "\n",
    "    def call(self, x):\n",
    "        y = x\n",
    "        for layer in self.layer_list:\n",
    "            y = layer(y)\n",
    "        log_s = self.log_s_layer(y)\n",
    "        t = self.t_layer(y)\n",
    "        return log_s, t"
   ]
  },
  {
   "cell_type": "code",
   "execution_count": 34,
   "id": "61c5233b",
   "metadata": {},
   "outputs": [],
   "source": [
    "class RealNVP(tfb.Bijector):\n",
    "    \n",
    "    def __init__(\n",
    "        self,\n",
    "        input_shape,\n",
    "        n_hidden=[512, 512],\n",
    "        forward_min_event_ndims=1,\n",
    "        validate_args: bool = False,\n",
    "        name=\"real_nvp\",\n",
    "    ):\n",
    "        super(RealNVP, self).__init__(\n",
    "            validate_args=validate_args, forward_min_event_ndims=forward_min_event_ndims, name=name\n",
    "        )\n",
    "\n",
    "        assert input_shape[-1] % 2 == 0\n",
    "        self.input_shape = input_shape\n",
    "        nn_layer = NN(input_shape[-1] // 2, n_hidden)\n",
    "        nn_input_shape = input_shape.copy()\n",
    "        nn_input_shape[-1] = input_shape[-1] // 2\n",
    "        x = tf.keras.Input(nn_input_shape)\n",
    "        log_s, t = nn_layer(x)\n",
    "        self.nn = Model(x, [log_s, t], name=\"nn\")\n",
    "        \n",
    "    def _forward(self, x):\n",
    "        x_a, x_b = tf.split(x, 2, axis=-1)\n",
    "        y_b = x_b\n",
    "        log_s, t = self.nn(x_b)\n",
    "        s = tf.exp(log_s)\n",
    "        y_a = s * x_a + t\n",
    "        y = tf.concat([y_a, y_b], axis=-1)\n",
    "        return y\n",
    "\n",
    "    def _inverse(self, y):\n",
    "        y_a, y_b = tf.split(y, 2, axis=-1)\n",
    "        x_b = y_b\n",
    "        log_s, t = self.nn(y_b)\n",
    "        s = tf.exp(log_s)\n",
    "        x_a = (y_a - t) / s\n",
    "        x = tf.concat([x_a, x_b], axis=-1)\n",
    "        return x\n",
    "\n",
    "    def _forward_log_det_jacobian(self, x):\n",
    "        _, x_b = tf.split(x, 2, axis=-1)\n",
    "        log_s, t = self.nn(x_b)\n",
    "        return log_s"
   ]
  },
  {
   "cell_type": "code",
   "execution_count": 35,
   "id": "56ce9b96",
   "metadata": {
    "scrolled": true
   },
   "outputs": [],
   "source": [
    "n_samples = X_train.shape[0]"
   ]
  },
  {
   "cell_type": "code",
   "execution_count": 36,
   "id": "bded8729",
   "metadata": {
    "scrolled": true
   },
   "outputs": [],
   "source": [
    "X_train_np = X_train_sample.to_numpy()\n",
    "X_test_np = X_test_sample.to_numpy()"
   ]
  },
  {
   "cell_type": "code",
   "execution_count": 37,
   "id": "b1e0c2b6",
   "metadata": {},
   "outputs": [],
   "source": [
    "X_train_np = X_train_np[:,0:2]\n",
    "X_test_np = X_test_np[:,0:2]"
   ]
  },
  {
   "cell_type": "code",
   "execution_count": 38,
   "id": "da26e4e2",
   "metadata": {
    "scrolled": true
   },
   "outputs": [],
   "source": [
    "# standardize once again before feeding into network \n",
    "scaler.fit(X_train_np)\n",
    "X_train_np = scaler.transform(X_train_np)\n",
    "X_test_np = scaler.transform(X_test_np)"
   ]
  },
  {
   "cell_type": "code",
   "execution_count": 39,
   "id": "0a671c81",
   "metadata": {
    "scrolled": true
   },
   "outputs": [],
   "source": [
    "X_train = X_train_np.astype(np.float32)\n",
    "X_train = tf.data.Dataset.from_tensor_slices(X_train)\n",
    "X_train = X_train.batch(32)\n",
    "\n",
    "X_valid = X_test_np.astype(np.float32)\n",
    "X_valid = tf.data.Dataset.from_tensor_slices(X_valid)\n",
    "X_valid = X_valid.batch(32)"
   ]
  },
  {
   "cell_type": "code",
   "execution_count": 40,
   "id": "272037c9",
   "metadata": {
    "scrolled": true
   },
   "outputs": [],
   "source": [
    "num_layers = 4\n",
    "flow_bijector = []\n",
    "\n",
    "for i in range(num_layers):\n",
    "    flow_i = RealNVP(input_shape=[2], n_hidden=[256,256])\n",
    "    flow_bijector.append(flow_i)  \n",
    "    flow_bijector.append(tfb.Permute([1,0]))\n",
    "# discard the last permute layer \n",
    "flow_bijector = tfb.Chain(list(reversed(flow_bijector[:-1])))"
   ]
  },
  {
   "cell_type": "code",
   "execution_count": 41,
   "id": "43c7a1f0",
   "metadata": {
    "scrolled": true
   },
   "outputs": [
    {
     "data": {
      "text/plain": [
       "<tfp.distributions.TransformedDistribution 'chain_of_real_nvp_of_permute_of_real_nvp_of_permute_of_real_nvp_of_permute_of_real_nvpMultivariateNormalDiag' batch_shape=[] event_shape=[2] dtype=float32>"
      ]
     },
     "execution_count": 41,
     "metadata": {},
     "output_type": "execute_result"
    }
   ],
   "source": [
    "trainable_dist = tfd.TransformedDistribution(distribution=mvn,\n",
    "                                            bijector=flow_bijector)\n",
    "trainable_dist"
   ]
  },
  {
   "cell_type": "code",
   "execution_count": 42,
   "id": "fb2d1a9a",
   "metadata": {
    "scrolled": true
   },
   "outputs": [],
   "source": [
    "def make_samples():\n",
    "    x = mvn.sample(n_samples)\n",
    "    samples = [x]\n",
    "    names = [mvn.name]\n",
    "    for bijector in reversed(trainable_dist.bijector.bijectors):\n",
    "        x = bijector.forward(x)\n",
    "        samples.append(x)\n",
    "        names.append(bijector.name)\n",
    "    return names, samples"
   ]
  },
  {
   "cell_type": "code",
   "execution_count": 43,
   "id": "ef7ef2b6",
   "metadata": {
    "scrolled": true
   },
   "outputs": [
    {
     "name": "stdout",
     "output_type": "stream",
     "text": [
      "Epoch 0...\n",
      "Epoch 100...\n",
      "Epoch 200...\n",
      "Epoch 300...\n",
      "Epoch 400...\n",
      "Epoch 500...\n"
     ]
    }
   ],
   "source": [
    "num_epochs = 600\n",
    "opt = tf.keras.optimizers.Adam(3e-4)\n",
    "train_losses = []\n",
    "valid_losses = []\n",
    "\n",
    "for epoch in range(num_epochs):\n",
    "    if epoch % 100 == 0:\n",
    "        print(\"Epoch {}...\".format(epoch))\n",
    "    train_loss = tf.keras.metrics.Mean()\n",
    "    val_loss = tf.keras.metrics.Mean()\n",
    "    for train_batch in X_train:\n",
    "        with tf.GradientTape() as tape:\n",
    "            tape.watch(trainable_dist.bijector.trainable_variables)\n",
    "            loss = -trainable_dist.log_prob(train_batch)\n",
    "        train_loss(loss)\n",
    "        grads = tape.gradient(loss, trainable_dist.bijector.trainable_variables)\n",
    "        opt.apply_gradients(zip(grads, trainable_dist.bijector.trainable_variables))\n",
    "    train_losses.append(train_loss.result().numpy())\n",
    "        \n",
    "    # Validation\n",
    "    for valid_batch in X_valid:\n",
    "        loss = -trainable_dist.log_prob(valid_batch)\n",
    "        val_loss(loss)\n",
    "    valid_losses.append(val_loss.result().numpy())"
   ]
  },
  {
   "cell_type": "code",
   "execution_count": 44,
   "id": "886ee70d",
   "metadata": {
    "scrolled": true
   },
   "outputs": [
    {
     "data": {
      "image/png": "[encoded data removed]",
      "text/plain": [
       "<Figure size 432x288 with 1 Axes>"
      ]
     },
     "metadata": {
      "needs_background": "light"
     },
     "output_type": "display_data"
    }
   ],
   "source": [
    "cutoff=10\n",
    "train_losses = history.history['loss'][cutoff:]\n",
    "valid_losses = history.history['val_loss'][cutoff:]\n",
    "\n",
    "plt.plot(np.arange(cutoff, epochs), train_losses, label='training')\n",
    "plt.plot(np.arange(cutoff, epochs), valid_losses, label='validation')\n",
    "\n",
    "plt.legend()\n",
    "plt.xlabel(\"Epochs\")\n",
    "plt.ylabel(\"Negative log likelihood\")\n",
    "plt.title(\"Training and validation loss curves\")\n",
    "plt.show()"
   ]
  },
  {
   "cell_type": "code",
   "execution_count": 45,
   "id": "4177a424",
   "metadata": {
    "scrolled": true
   },
   "outputs": [],
   "source": [
    "names, samples = make_samples()"
   ]
  },
  {
   "cell_type": "code",
   "execution_count": 48,
   "id": "b7617c92",
   "metadata": {},
   "outputs": [],
   "source": [
    "def visualize_training_data(samples):\n",
    "    f, arr = plt.subplots(1, 2, figsize=(20,5))\n",
    "    names = ['Data', 'Trainable']\n",
    "    samples = [tf.constant(X_train_np), samples[-1]]\n",
    "\n",
    "    for i in range(2):\n",
    "        res = samples[i]\n",
    "        X, Y = res[..., 0].numpy(), res[..., 1].numpy()\n",
    "        arr[i].scatter(X, Y, s=10)\n",
    "        z = np.polyfit(X, Y, 1)\n",
    "        p = np.poly1d(z)\n",
    "        arr[i].plot(X, p(X), color='green')\n",
    "        arr[i].set_xlim([-2, 2])\n",
    "        arr[i].set_ylim([-2, 2])\n",
    "        arr[i].set_title(names[i])"
   ]
  },
  {
   "cell_type": "code",
   "execution_count": 49,
   "id": "8b52f865",
   "metadata": {},
   "outputs": [
    {
     "data": {
      "image/png": "[encoded data removed]",
      "text/plain": [
       "<Figure size 1440x360 with 2 Axes>"
      ]
     },
     "metadata": {
      "needs_background": "light"
     },
     "output_type": "display_data"
    }
   ],
   "source": [
    "visualize_training_data(samples)"
   ]
  },
  {
   "cell_type": "code",
   "execution_count": 50,
   "id": "ec7a463d",
   "metadata": {
    "scrolled": true
   },
   "outputs": [
    {
     "data": {
      "text/html": [
       "<div>\n",
       "<style scoped>\n",
       "    .dataframe tbody tr th:only-of-type {\n",
       "        vertical-align: middle;\n",
       "    }\n",
       "\n",
       "    .dataframe tbody tr th {\n",
       "        vertical-align: top;\n",
       "    }\n",
       "\n",
       "    .dataframe thead th {\n",
       "        text-align: right;\n",
       "    }\n",
       "</style>\n",
       "<table border=\"1\" class=\"dataframe\">\n",
       "  <thead>\n",
       "    <tr style=\"text-align: right;\">\n",
       "      <th></th>\n",
       "      <th>PRE4</th>\n",
       "      <th>PRE5</th>\n",
       "    </tr>\n",
       "  </thead>\n",
       "  <tbody>\n",
       "    <tr>\n",
       "      <th>0</th>\n",
       "      <td>-0.066439</td>\n",
       "      <td>-0.191747</td>\n",
       "    </tr>\n",
       "    <tr>\n",
       "      <th>1</th>\n",
       "      <td>-0.657751</td>\n",
       "      <td>1.410033</td>\n",
       "    </tr>\n",
       "    <tr>\n",
       "      <th>2</th>\n",
       "      <td>-0.503186</td>\n",
       "      <td>0.455382</td>\n",
       "    </tr>\n",
       "    <tr>\n",
       "      <th>3</th>\n",
       "      <td>-1.387817</td>\n",
       "      <td>-0.664401</td>\n",
       "    </tr>\n",
       "    <tr>\n",
       "      <th>4</th>\n",
       "      <td>-1.816777</td>\n",
       "      <td>-0.282470</td>\n",
       "    </tr>\n",
       "  </tbody>\n",
       "</table>\n",
       "</div>"
      ],
      "text/plain": [
       "       PRE4      PRE5\n",
       "0 -0.066439 -0.191747\n",
       "1 -0.657751  1.410033\n",
       "2 -0.503186  0.455382\n",
       "3 -1.387817 -0.664401\n",
       "4 -1.816777 -0.282470"
      ]
     },
     "execution_count": 50,
     "metadata": {},
     "output_type": "execute_result"
    }
   ],
   "source": [
    "samples = pd.DataFrame(samples[-1].numpy(), columns=['PRE4','PRE5'])\n",
    "samples.head()"
   ]
  },
  {
   "cell_type": "code",
   "execution_count": 51,
   "id": "ccaff6ba",
   "metadata": {
    "scrolled": false
   },
   "outputs": [
    {
     "data": {
      "image/png": "[encoded data removed]",
      "text/plain": [
       "<Figure size 864x360 with 3 Axes>"
      ]
     },
     "metadata": {
      "needs_background": "light"
     },
     "output_type": "display_data"
    }
   ],
   "source": [
    "f, axs = plt.subplots(1, 3, figsize=(12,5))\n",
    "sns.kdeplot(data=pd.DataFrame(X_train_np, columns=['PRE4','PRE5']), ax=axs[0], multiple=\"stack\", palette='Set1').set_title('ptrain')\n",
    "sns.kdeplot(data=samples, ax=axs[1], multiple=\"stack\", palette='Set2').set_title('qtrained')\n",
    "sns.kdeplot(data=pd.DataFrame(X_test_np, columns=['PRE4','PRE5']), ax=axs[2], multiple=\"stack\", palette='Set3').set_title('ptest')\n",
    "\n",
    "f = f.get_figure()\n",
    "sns.despine()\n",
    "f.savefig(os.getcwd() + '/realnvp-results/q.jpeg')"
   ]
  },
  {
   "cell_type": "code",
   "execution_count": 57,
   "id": "0e96451d",
   "metadata": {},
   "outputs": [],
   "source": [
    "# KS-test\n",
    "post_sample = trainable_dist.sample(X_train_copy.shape[0]).numpy()\n",
    "\n",
    "with open('ks-test.txt', 'a') as f:\n",
    "    f.write('REALNVP FLOW\\n')\n",
    "    f.write('p-val[training - qtrained] = {}\\n'.format(ks2d2s(X_train_np[...,0], X_train_np[...,1], post_sample[...,0], post_sample[...,1])))\n",
    "    f.write('p-val[testing - qtrained] = {}\\n'.format(ks2d2s(X_test_np[...,0], X_test_np[...,1], post_sample[...,0], post_sample[...,1])))\n",
    "f.close()"
   ]
  },
  {
   "cell_type": "markdown",
   "id": "df0c53f6",
   "metadata": {},
   "source": [
    "### Measure KL Divergence "
   ]
  },
  {
   "cell_type": "code",
   "execution_count": 58,
   "id": "2be7e9a0",
   "metadata": {},
   "outputs": [
    {
     "name": "stdout",
     "output_type": "stream",
     "text": [
      "4.562646\n",
      "17.873766\n"
     ]
    }
   ],
   "source": [
    "# training \n",
    "prior_train = mvn.prob(X_train_np).numpy()\n",
    "learned_train = trainable_dist.prob(X_train_np).numpy()\n",
    "\n",
    "kl = tf.keras.metrics.KLDivergence()\n",
    "kl.update_state(prior_train, learned_train)\n",
    "print(kl.result().numpy())\n",
    "kl.reset_state()\n",
    "\n",
    "# testing\n",
    "prior_test = mvn.prob(X_test_np).numpy()\n",
    "learned_test = trainable_dist.prob(X_test_np).numpy()\n",
    "\n",
    "kl = tf.keras.metrics.KLDivergence()\n",
    "kl.update_state(prior_test, learned_test)\n",
    "print(kl.result().numpy())\n",
    "kl.reset_state()"
   ]
  },
  {
   "cell_type": "markdown",
   "id": "bd78efd5",
   "metadata": {},
   "source": [
    "### Measure Shannon Entropy"
   ]
  },
  {
   "cell_type": "code",
   "execution_count": 59,
   "id": "9670b9db",
   "metadata": {},
   "outputs": [
    {
     "name": "stdout",
     "output_type": "stream",
     "text": [
      "11025.344\n",
      "14063.683\n"
     ]
    }
   ],
   "source": [
    "# training\n",
    "cross_entropy = prior_train * np.log(learned_train)\n",
    "print(-np.ma.masked_invalid(cross_entropy).sum())\n",
    "\n",
    "# testing\n",
    "cross_entropy = prior_test * np.log(learned_test)\n",
    "print(-np.ma.masked_invalid(cross_entropy).sum())"
   ]
  },
  {
   "cell_type": "markdown",
   "id": "0f92bd8d",
   "metadata": {},
   "source": [
    "### Measure Poisson "
   ]
  },
  {
   "cell_type": "code",
   "execution_count": 60,
   "id": "62054131",
   "metadata": {},
   "outputs": [
    {
     "name": "stdout",
     "output_type": "stream",
     "text": [
      "0.35982814\n",
      "0.37691572\n"
     ]
    }
   ],
   "source": [
    "# training \n",
    "poisson = tf.keras.metrics.Poisson()\n",
    "poisson.update_state(prior_train, learned_train)\n",
    "print(poisson.result().numpy())\n",
    "poisson.reset_state()\n",
    "\n",
    "# testing \n",
    "poisson = tf.keras.metrics.Poisson()\n",
    "poisson.update_state(prior_test, learned_test)\n",
    "print(poisson.result().numpy())\n",
    "poisson.reset_state()"
   ]
  },
  {
   "cell_type": "markdown",
   "id": "94b7cd11",
   "metadata": {},
   "source": [
    "### Measure MAE"
   ]
  },
  {
   "cell_type": "code",
   "execution_count": 61,
   "id": "3734da33",
   "metadata": {},
   "outputs": [
    {
     "name": "stdout",
     "output_type": "stream",
     "text": [
      "0.08932299\n",
      "0.07830838\n"
     ]
    }
   ],
   "source": [
    "# training \n",
    "mae = tf.keras.losses.MeanAbsoluteError()\n",
    "print(mae(prior_train, learned_train).numpy())\n",
    "\n",
    "# testing\n",
    "print(mae(prior_test, learned_test).numpy())"
   ]
  },
  {
   "cell_type": "markdown",
   "id": "427fcb58",
   "metadata": {},
   "source": [
    "### Performance Evaluation"
   ]
  },
  {
   "cell_type": "code",
   "execution_count": 62,
   "id": "8535be8a",
   "metadata": {},
   "outputs": [],
   "source": [
    "# collect metrics\n",
    "def _collect(prior_train, prior_test, approx_dist_train, approx_dist_test, results, number_of_run):\n",
    "    \n",
    "    # KL training\n",
    "    kl = tf.keras.losses.KLDivergence()\n",
    "    results['Kullback-Leibler Divergence'][number_of_run][0] = kl(prior_train, approx_dist_train).numpy()\n",
    "    # KL testing\n",
    "    results['Kullback-Leibler Divergence'][number_of_run][1] = kl(prior_test, approx_dist_test).numpy()\n",
    "    \n",
    "    # Cross Entropy training\n",
    "    ce = tf.keras.losses.CategoricalCrossentropy()\n",
    "    results['Cross Entropy'][number_of_run][0] = ce(prior_train, approx_dist_train).numpy()\n",
    "    # Cross Entropy testing\n",
    "    results['Cross Entropy'][number_of_run][1] = ce(prior_test, approx_dist_test).numpy()\n",
    "    \n",
    "    # MAE training \n",
    "    mae = tf.keras.losses.MeanAbsoluteError()\n",
    "    results['Mean Absolute Error'][number_of_run][0] = mae(prior_train, approx_dist_train).numpy()\n",
    "    # MAE testing\n",
    "    results['Mean Absolute Error'][number_of_run][1] = mae(prior_test, approx_dist_test).numpy()\n",
    "    \n",
    "    return results \n",
    "\n",
    "# metrics to measure KL, Cross Entropy, Mean Absolute Error\n",
    "def init_results():\n",
    "    results = {'Kullback-Leibler Divergence': [[None, None] for _ in range(NUMBER_OF_RUNS)], \n",
    "               'Cross Entropy': [[None, None] for _ in range(NUMBER_OF_RUNS)],\n",
    "               'Mean Absolute Error': [[None, None] for _ in range(NUMBER_OF_RUNS)]\n",
    "              }\n",
    "    return results\n",
    "\n",
    "NUMBER_OF_RUNS = 5\n",
    "results = init_results()\n",
    "\n",
    "# generate new observations and measure with the generative model \n",
    "def _results(X_train_np, X_test_np, NUMBER_OF_RUNS, results):\n",
    "    for num in range(NUMBER_OF_RUNS):\n",
    "        \n",
    "        prior_train = decoder(X_train_np).sample().numpy()\n",
    "        prior_test = decoder(X_test_np).sample().numpy()\n",
    "        \n",
    "        approx_dist_train = trainable_dist.sample(X_train_np.shape[0]).numpy()\n",
    "        approx_dist_test = trainable_dist.sample(X_test_np.shape[0]).numpy()\n",
    "        \n",
    "        results = _collect(prior_train, prior_test, approx_dist_train, approx_dist_test, results, num)\n",
    "        \n",
    "    return results"
   ]
  },
  {
   "cell_type": "code",
   "execution_count": 63,
   "id": "616f50ed",
   "metadata": {},
   "outputs": [
    {
     "data": {
      "text/plain": [
       "<tf.Tensor: shape=(2,), dtype=float32, numpy=array([1.0000001 , 0.99999976], dtype=float32)>"
      ]
     },
     "execution_count": 63,
     "metadata": {},
     "output_type": "execute_result"
    }
   ],
   "source": [
    "# convert output of decoder to probabilities \n",
    "trial_data = decoder(X_train_np).sample().numpy()\n",
    "tf.reduce_sum(tf.exp(-trial_data) / tf.reduce_sum(tf.exp(-trial_data), axis=0),axis=0)"
   ]
  },
  {
   "cell_type": "code",
   "execution_count": 64,
   "id": "d43326bc",
   "metadata": {
    "scrolled": false
   },
   "outputs": [
    {
     "data": {
      "text/plain": [
       "{'Kullback-Leibler Divergence': [[4.295739, 4.1142764],\n",
       "  [4.1319785, 4.4120455],\n",
       "  [4.1363783, 4.3604417],\n",
       "  [4.032199, 3.8035703],\n",
       "  [4.8471885, 4.081084]],\n",
       " 'Cross Entropy': [[-0.31388193, 0.33787298],\n",
       "  [0.24392317, 0.33153987],\n",
       "  [-0.4202517, -0.33802685],\n",
       "  [-0.65345, 0.5635472],\n",
       "  [0.32227722, -0.06132957]],\n",
       " 'Mean Absolute Error': [[1.0042554, 0.9207216],\n",
       "  [0.92515385, 0.9172538],\n",
       "  [0.9869464, 0.9656331],\n",
       "  [0.9497071, 0.90783685],\n",
       "  [0.96958935, 0.9902138]]}"
      ]
     },
     "execution_count": 64,
     "metadata": {},
     "output_type": "execute_result"
    }
   ],
   "source": [
    "# sanity check \n",
    "_results(X_train_np, X_test_np, NUMBER_OF_RUNS, results)"
   ]
  },
  {
   "cell_type": "markdown",
   "id": "25851622",
   "metadata": {},
   "source": [
    "### [Pooled Estimate of Common Std. Deviation](https://sphweb.bumc.bu.edu/otlt/mph-modules/bs/bs704_confidence_intervals/bs704_confidence_intervals5.html)"
   ]
  },
  {
   "cell_type": "code",
   "execution_count": 65,
   "id": "13fd827c",
   "metadata": {
    "scrolled": true
   },
   "outputs": [
    {
     "name": "stdout",
     "output_type": "stream",
     "text": [
      "Metric sampling in seconds: 19\n"
     ]
    }
   ],
   "source": [
    "NUMBER_OF_RUNS=100\n",
    "results = init_results()\n",
    "start_time = time.time()\n",
    "stats = _results(X_train_np, X_test_np, NUMBER_OF_RUNS, results)\n",
    "print('Metric sampling in seconds: {sec}'.format(sec=round(time.time()-start_time)))"
   ]
  },
  {
   "cell_type": "code",
   "execution_count": 66,
   "id": "9a68a94c",
   "metadata": {},
   "outputs": [],
   "source": [
    "# calculate stds and xbars\n",
    "stdxbars = {'Kullback-Leibler Divergence': [None, None],\n",
    "           'Cross Entropy': [None, None],\n",
    "            'Mean Absolute Error': [None, None]\n",
    "           }\n",
    "def _stdxbar(stdxbars, stats):\n",
    "    for k, v in stats.items(): \n",
    "        tensored_samples = tf.convert_to_tensor(v)\n",
    "        xbars = tf.reduce_mean(tensored_samples, axis=0).numpy()\n",
    "        xbar_train, xbar_test = xbars[0], xbars[1] \n",
    "        stds = tf.math.reduce_std(tensored_samples, axis=0).numpy()\n",
    "        std_train, std_test = stds[0], stds[1]\n",
    "        stdxbars[k] = [[xbar_train, std_train], [xbar_test, std_test]]\n",
    "    return stdxbars"
   ]
  },
  {
   "cell_type": "code",
   "execution_count": 67,
   "id": "d6c242c8",
   "metadata": {},
   "outputs": [
    {
     "data": {
      "text/plain": [
       "{'Kullback-Leibler Divergence': [[4.2850413, 0.40495333],\n",
       "  [4.2840657, 0.42140904]],\n",
       " 'Cross Entropy': [[-0.16075936, 0.5712768], [-0.18047802, 0.5130162]],\n",
       " 'Mean Absolute Error': [[0.9595819, 0.033186425], [0.9586339, 0.036060818]]}"
      ]
     },
     "execution_count": 67,
     "metadata": {},
     "output_type": "execute_result"
    }
   ],
   "source": [
    "stdxbars = _stdxbar(results, stats)\n",
    "stdxbars"
   ]
  },
  {
   "cell_type": "code",
   "execution_count": 68,
   "id": "bace02c5",
   "metadata": {},
   "outputs": [],
   "source": [
    "def _pooled(stdxbars, n):\n",
    "    poolingstds = {'Kullback-Leibler Divergence': .0,\n",
    "                  'Cross Entropy': .0,\n",
    "                   'Mean Absolute Error': .0\n",
    "                  }\n",
    "    for k, v in stdxbars.items():\n",
    "        trainstd = v[0][1]\n",
    "        teststd = v[1][1]\n",
    "        estimate = np.sqrt((((n-1)*np.square(trainstd))+((n-1)*np.square(teststd)))/(2*(n-1)))\n",
    "        \n",
    "        assertion = False\n",
    "        try:\n",
    "            assert .5 <= trainstd/teststd <= 2., '{metric}: One sample variance cannot be the double of the other!'.format(metric=k)\n",
    "        except AssertionError as e:\n",
    "            assertion = True\n",
    "            print(e)\n",
    "        \n",
    "        # discard metrics that don't pass sample variance check\n",
    "        if assertion == False:\n",
    "            poolingstds[k] = estimate\n",
    "        else:\n",
    "            del poolingstds[k]\n",
    "\n",
    "    return poolingstds"
   ]
  },
  {
   "cell_type": "code",
   "execution_count": 69,
   "id": "1b4d04ff",
   "metadata": {},
   "outputs": [
    {
     "data": {
      "text/plain": [
       "{'Kullback-Leibler Divergence': 0.4132631070746377,\n",
       " 'Cross Entropy': 0.5429285432488004,\n",
       " 'Mean Absolute Error': 0.034653436442343595}"
      ]
     },
     "execution_count": 69,
     "metadata": {},
     "output_type": "execute_result"
    }
   ],
   "source": [
    "pooled_estimates = _pooled(stdxbars, n=NUMBER_OF_RUNS)\n",
    "pooled_estimates"
   ]
  },
  {
   "cell_type": "code",
   "execution_count": 70,
   "id": "9fd2dd62",
   "metadata": {},
   "outputs": [],
   "source": [
    "# calculate 95% CI\n",
    "def _CI(stdxbars, pooled_estimates, n):\n",
    "    zval95 = 1.96\n",
    "    conf_intervals = {'Kullback-Leibler Divergence': .0,\n",
    "                      'Cross Entropy': .0,\n",
    "                      'Mean Absolute Error': .0\n",
    "                     }\n",
    "    trainxbar = stdxbars['Kullback-Leibler Divergence'][0][0]\n",
    "    testxbar = stdxbars['Kullback-Leibler Divergence'][1][0]\n",
    "    mean_diff = testxbar-trainxbar\n",
    "    estimate = pooled_estimates['Kullback-Leibler Divergence']\n",
    "    \n",
    "    upper_bound = np.round(mean_diff+(zval95*estimate*np.sqrt(2/n)),3)\n",
    "    lower_bound = np.round(mean_diff-(zval95*estimate*np.sqrt(2/n)),3)\n",
    "    conf_intervals['Kullback-Leibler Divergence'] = [lower_bound, upper_bound]\n",
    "    \n",
    "    trainxbar = stdxbars['Cross Entropy'][0][0]\n",
    "    testxbar = stdxbars['Cross Entropy'][1][0]\n",
    "    mean_diff = testxbar-trainxbar\n",
    "    estimate = pooled_estimates['Cross Entropy']\n",
    "\n",
    "    upper_bound = np.round(mean_diff+(zval95*estimate*np.sqrt(2/n)),3)\n",
    "    lower_bound = np.round(mean_diff-(zval95*estimate*np.sqrt(2/n)),3)\n",
    "    conf_intervals['Cross Entropy'] = [lower_bound, upper_bound]\n",
    "\n",
    "    trainxbar = stdxbars['Mean Absolute Error'][0][0]\n",
    "    testxbar = stdxbars['Mean Absolute Error'][1][0]\n",
    "    mean_diff = testxbar-trainxbar\n",
    "    estimate = pooled_estimates['Mean Absolute Error']\n",
    "    \n",
    "    upper_bound = np.round(mean_diff+(zval95*estimate*np.sqrt(2/n)),3)\n",
    "    lower_bound = np.round(mean_diff-(zval95*estimate*np.sqrt(2/n)),3)\n",
    "    conf_intervals['Mean Absolute Error'] = [lower_bound, upper_bound]\n",
    "    \n",
    "    return conf_intervals"
   ]
  },
  {
   "cell_type": "code",
   "execution_count": 71,
   "id": "a13e3f52",
   "metadata": {},
   "outputs": [
    {
     "data": {
      "text/plain": [
       "{'Kullback-Leibler Divergence': [-0.116, 0.114],\n",
       " 'Cross Entropy': [-0.17, 0.131],\n",
       " 'Mean Absolute Error': [-0.011, 0.009]}"
      ]
     },
     "execution_count": 71,
     "metadata": {},
     "output_type": "execute_result"
    }
   ],
   "source": [
    "conf_intervals = _CI(stdxbars, pooled_estimates, n=NUMBER_OF_RUNS)\n",
    "conf_intervals"
   ]
  }
 ],
 "metadata": {
  "kernelspec": {
   "display_name": "Python 3 (ipykernel)",
   "language": "python",
   "name": "python3"
  },
  "language_info": {
   "codemirror_mode": {
    "name": "ipython",
    "version": 3
   },
   "file_extension": ".py",
   "mimetype": "text/x-python",
   "name": "python",
   "nbconvert_exporter": "python",
   "pygments_lexer": "ipython3",
   "version": "3.7.10"
  }
 },
 "nbformat": 4,
 "nbformat_minor": 5
}
